{
  "nbformat": 4,
  "nbformat_minor": 0,
  "metadata": {
    "colab": {
      "provenance": [],
      "authorship_tag": "ABX9TyO5CVmX6Wjd72RFlf8WqXcy",
      "include_colab_link": true
    },
    "kernelspec": {
      "name": "python3",
      "display_name": "Python 3"
    },
    "language_info": {
      "name": "python"
    }
  },
  "cells": [
    {
      "cell_type": "markdown",
      "metadata": {
        "id": "view-in-github",
        "colab_type": "text"
      },
      "source": [
        "<a href=\"https://colab.research.google.com/github/FelRobG/Respaldos/blob/main/Matriz_3x3_ingresada_por_teclado_con_verificacion_de_valor_y_suma_y_repeticion.ipynb\" target=\"_parent\"><img src=\"https://colab.research.google.com/assets/colab-badge.svg\" alt=\"Open In Colab\"/></a>"
      ]
    },
    {
      "cell_type": "code",
      "execution_count": null,
      "metadata": {
        "colab": {
          "base_uri": "https://localhost:8080/"
        },
        "id": "Y3bKyNSvn2Es",
        "outputId": "e57955bf-93dd-408d-ce7f-855ab1b499d2"
      },
      "outputs": [
        {
          "output_type": "stream",
          "name": "stdout",
          "text": [
            "Ingrese valor entero de la casilla [0][0]:1\n",
            "Ingrese valor entero de la casilla [0][1]:1\n",
            "Ingrese valor entero de la casilla [0][2]:1\n",
            "Ingrese valor entero de la casilla [1][0]:1\n",
            "Ingrese valor entero de la casilla [1][1]:1\n",
            "Ingrese valor entero de la casilla [1][2]:1\n",
            "Ingrese valor entero de la casilla [2][0]:1\n",
            "Ingrese valor entero de la casilla [2][1]:1\n",
            "Ingrese valor entero de la casilla [2][2]:1\n",
            "Matriz resultante:\n",
            " [[1 1 1]\n",
            " [1 1 1]\n",
            " [1 1 1]]\n",
            "Resultado de la suma de los elementos= 9\n",
            "Suma incorrecta, el resultado de la suma de casillas  no fue 21\n",
            "Ingrese valor entero de la casilla [0][0]:2\n",
            "Ingrese valor entero de la casilla [0][1]:1\n",
            "Ingrese valor entero de la casilla [0][2]:3\n",
            "Ingrese valor entero de la casilla [1][0]:2\n",
            "Ingrese valor entero de la casilla [1][1]:1\n",
            "Ingrese valor entero de la casilla [1][2]:1\n",
            "Ingrese valor entero de la casilla [2][0]:1\n",
            "Ingrese valor entero de la casilla [2][1]:1\n",
            "Ingrese valor entero de la casilla [2][2]:1\n",
            "Matriz resultante:\n",
            " [[2 1 3]\n",
            " [2 1 1]\n",
            " [1 1 1]]\n",
            "Resultado de la suma de los elementos= 13\n",
            "Suma incorrecta, el resultado de la suma de casillas  no fue 21\n",
            "Ingrese valor entero de la casilla [0][0]:1\n",
            "Ingrese valor entero de la casilla [0][1]:2\n",
            "Ingrese valor entero de la casilla [0][2]:3\n",
            "Ingrese valor entero de la casilla [1][0]:4\n",
            "Ingrese valor entero de la casilla [1][1]:5\n",
            "Ingrese valor entero de la casilla [1][2]:6\n",
            "Ingrese valor entero de la casilla [2][0]:0\n",
            "Ingrese valor entero de la casilla [2][1]:0\n",
            "Ingrese valor entero de la casilla [2][2]:0\n",
            "Matriz resultante:\n",
            " [[1 2 3]\n",
            " [4 5 6]\n",
            " [0 0 0]]\n",
            "Resultado de la suma de los elementos= 21\n",
            "Suma correcta, el resultado de la suma de casillas fue 21\n"
          ]
        }
      ],
      "source": [
        "import numpy as np\n",
        "\n",
        "#func_recorre_y_asigna_val_matriz\n",
        "def asigna(arreglo):\n",
        "  i = 0\n",
        "  j = 0\n",
        "  while i < 3:\n",
        "    while j < 3:\n",
        "      try:\n",
        "        arreglo[i][j] = int(input(f\"Ingrese valor entero de la casilla {[i]}{[j]}:\"))\n",
        "        j += 1\n",
        "      except(ValueError):\n",
        "        print(\"El valor ingresado debe ser un número entero\")\n",
        "    j = 0\n",
        "    i += 1\n",
        "  print(\"Matriz resultante:\\n\", arreglo)\n",
        "\n",
        "#suma_y_verif_de_21\n",
        "def verif_suma(arreglo):\n",
        "  suma = np.sum(arreglo)\n",
        "  print(\"Resultado de la suma de los elementos=\", suma)\n",
        "  if suma == 21:\n",
        "    print(\"Suma correcta, el resultado de la suma de las casillas fue 21\")\n",
        "    return True\n",
        "  else:\n",
        "    print(\"Suma incorrecta, el resultado de la suma de las casillas no fue 21\")\n",
        "    return False\n",
        "\n",
        "###inicio###\n",
        "while True:\n",
        "  arreglo = np.zeros((3,3), dtype=int)\n",
        "  asigna(arreglo)\n",
        "  if verif_suma(arreglo):\n",
        "    break"
      ]
    }
  ]
}