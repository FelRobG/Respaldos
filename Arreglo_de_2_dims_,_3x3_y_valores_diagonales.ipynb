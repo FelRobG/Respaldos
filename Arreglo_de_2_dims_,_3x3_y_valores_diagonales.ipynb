{
  "nbformat": 4,
  "nbformat_minor": 0,
  "metadata": {
    "colab": {
      "provenance": [],
      "authorship_tag": "ABX9TyMdYpKsH0cIlL3Y8P5FtG2N",
      "include_colab_link": true
    },
    "kernelspec": {
      "name": "python3",
      "display_name": "Python 3"
    },
    "language_info": {
      "name": "python"
    }
  },
  "cells": [
    {
      "cell_type": "markdown",
      "metadata": {
        "id": "view-in-github",
        "colab_type": "text"
      },
      "source": [
        "<a href=\"https://colab.research.google.com/github/FelRobG/Respaldos/blob/main/Arreglo_de_2_dims_%2C_3x3_y_valores_diagonales.ipynb\" target=\"_parent\"><img src=\"https://colab.research.google.com/assets/colab-badge.svg\" alt=\"Open In Colab\"/></a>"
      ]
    },
    {
      "cell_type": "code",
      "execution_count": 10,
      "metadata": {
        "id": "tCOHAMp7_kv6",
        "colab": {
          "base_uri": "https://localhost:8080/"
        },
        "outputId": "342cb61b-ff15-41a9-ab05-cb91b220f3d5"
      },
      "outputs": [
        {
          "output_type": "stream",
          "name": "stdout",
          "text": [
            "[[35 58 78]\n",
            " [85 80 60]\n",
            " [96 79 55]]\n",
            "Promedio de los elementos: 69.55555555555556\n",
            "suma de los elementos: 626\n",
            "Elemento mayor del arreglo:  96\n",
            "Elemento menor del arreglo:  35\n",
            "Diagonal principal:  [35 80 55]\n"
          ]
        }
      ],
      "source": [
        "import numpy as np\n",
        "\n",
        "arr = np.random.randint(101, size = (3, 3))\n",
        "print(arr)\n",
        "\n",
        "#promedio\n",
        "prom = np.mean(arr)\n",
        "print(\"Promedio de los elementos:\", prom)\n",
        "\n",
        "#suma\n",
        "suma = np.sum(arr)\n",
        "print(\"suma de los elementos:\", suma)\n",
        "\n",
        "#maximo\n",
        "max = np.max(arr)\n",
        "print(\"Elemento mayor del arreglo: \", max)\n",
        "\n",
        "#minimo\n",
        "min = np.min(arr)\n",
        "print(\"Elemento menor del arreglo: \", min)\n",
        "\n",
        "#diagonal_principal\n",
        "diag_princ = np.diag(arr)\n",
        "print(\"Diagonal principal: \", diag_princ)\n"
      ]
    }
  ]
}